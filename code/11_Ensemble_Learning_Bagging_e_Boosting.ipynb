{
  "nbformat": 4,
  "nbformat_minor": 0,
  "metadata": {
    "colab": {
      "provenance": [],
      "authorship_tag": "ABX9TyNkA61x9R3MZ2vsshtui8j7",
      "include_colab_link": true
    },
    "kernelspec": {
      "name": "python3",
      "display_name": "Python 3"
    },
    "language_info": {
      "name": "python"
    }
  },
  "cells": [
    {
      "cell_type": "markdown",
      "metadata": {
        "id": "view-in-github",
        "colab_type": "text"
      },
      "source": [
        "<a href=\"https://colab.research.google.com/github/diogenesjusto/FIAP-On-Line-Graduation/blob/main/code/11_Ensemble_Learning_Bagging_e_Boosting.ipynb\" target=\"_parent\"><img src=\"https://colab.research.google.com/assets/colab-badge.svg\" alt=\"Open In Colab\"/></a>"
      ]
    },
    {
      "cell_type": "code",
      "execution_count": 1,
      "metadata": {
        "id": "2OjQk1ArJ5kF"
      },
      "outputs": [],
      "source": [
        "# carga de bibliotecas\n",
        "import pandas as pd\n",
        "from sklearn.ensemble import RandomForestClassifier\n",
        "from sklearn.model_selection import train_test_split\n",
        "from sklearn.metrics import accuracy_score"
      ]
    },
    {
      "cell_type": "code",
      "source": [
        "# carga de dados\n",
        "df = pd.read_csv(\"https://raw.githubusercontent.com/diogenesjusto/FIAP-On-Line-Graduation/main/datasets/arvore_titanic.csv\")\n",
        "\n",
        "# transformações de dados\n",
        "du_Sex = pd.get_dummies(df['Sex'])\n",
        "du_Pclass = pd.get_dummies(df['Pclass'], prefix='class')\n",
        "dtAge = df['Age'].fillna(df.groupby('Pclass')['Fare'].transform('mean'))\n",
        "\n",
        "df = df.join(du_Sex)\n",
        "df = df.join(du_Pclass)\n",
        "df['AgeFilledNa'] = dtAge"
      ],
      "metadata": {
        "id": "ethiktYINKC9"
      },
      "execution_count": 2,
      "outputs": []
    },
    {
      "cell_type": "code",
      "source": [
        "# Comparativo de execução do Random Forest com e sem parâmetro de bagging\n",
        "for i in range(10):\n",
        "  x_treino, x_teste, y_treino, y_teste = train_test_split(df[['female', 'class_1','class_2', 'SibSp', 'Parch', 'AgeFilledNa']]\n",
        "                                                          , df['Survived'],test_size=0.3266, random_state=i)\n",
        "\n",
        "  # Bootstrap Ativo\n",
        "  mod = RandomForestClassifier(n_estimators = 500, random_state = 1, bootstrap=True)\n",
        "  mod = mod.fit(x_treino, y_treino)\n",
        "  y_prev = mod.predict(x_teste)\n",
        "  accuracy_bootstrap_true = accuracy_score(y_teste, y_prev)\n",
        "\n",
        "  # Bootstrap Desativado\n",
        "  mod = RandomForestClassifier(n_estimators = 500, random_state = 1, bootstrap=False)\n",
        "  mod = mod.fit(x_treino, y_treino)\n",
        "  y_prev = mod.predict(x_teste)\n",
        "  accuracy_bootstrap_false = accuracy_score(y_teste, y_prev)\n",
        "\n",
        "\n",
        "  print(accuracy_bootstrap_true, accuracy_bootstrap_false, accuracy_bootstrap_true-accuracy_bootstrap_false)"
      ],
      "metadata": {
        "colab": {
          "base_uri": "https://localhost:8080/"
        },
        "id": "HSR2aNlgS3qH",
        "outputId": "bb71e62a-fc97-4ff6-c321-7cdfb3030240"
      },
      "execution_count": 3,
      "outputs": [
        {
          "output_type": "stream",
          "name": "stdout",
          "text": [
            "0.791095890410959 0.7876712328767124 0.003424657534246589\n",
            "0.7671232876712328 0.7465753424657534 0.020547945205479423\n",
            "0.8013698630136986 0.7671232876712328 0.03424657534246578\n",
            "0.8047945205479452 0.8013698630136986 0.003424657534246589\n",
            "0.815068493150685 0.8116438356164384 0.003424657534246589\n",
            "0.8116438356164384 0.8047945205479452 0.006849315068493178\n",
            "0.8116438356164384 0.8184931506849316 -0.006849315068493178\n",
            "0.7876712328767124 0.7808219178082192 0.006849315068493178\n",
            "0.821917808219178 0.8116438356164384 0.010273972602739656\n",
            "0.8184931506849316 0.8116438356164384 0.006849315068493178\n"
          ]
        }
      ]
    },
    {
      "cell_type": "code",
      "source": [
        "!pip install catboost\n",
        "\n",
        "from sklearn.ensemble import GradientBoostingClassifier\n",
        "from xgboost import XGBClassifier\n",
        "import lightgbm as lgb\n",
        "import catboost as ctb"
      ],
      "metadata": {
        "colab": {
          "base_uri": "https://localhost:8080/"
        },
        "id": "KhS9aq6HwSP0",
        "outputId": "ecaf423b-13de-4fb1-ae12-5424e50efc78"
      },
      "execution_count": 5,
      "outputs": [
        {
          "output_type": "stream",
          "name": "stdout",
          "text": [
            "Looking in indexes: https://pypi.org/simple, https://us-python.pkg.dev/colab-wheels/public/simple/\n",
            "Collecting catboost\n",
            "  Downloading catboost-1.0.6-cp37-none-manylinux1_x86_64.whl (76.6 MB)\n",
            "\u001b[K     |████████████████████████████████| 76.6 MB 1.2 MB/s \n",
            "\u001b[?25hRequirement already satisfied: scipy in /usr/local/lib/python3.7/dist-packages (from catboost) (1.7.3)\n",
            "Requirement already satisfied: six in /usr/local/lib/python3.7/dist-packages (from catboost) (1.15.0)\n",
            "Requirement already satisfied: matplotlib in /usr/local/lib/python3.7/dist-packages (from catboost) (3.2.2)\n",
            "Requirement already satisfied: graphviz in /usr/local/lib/python3.7/dist-packages (from catboost) (0.10.1)\n",
            "Requirement already satisfied: plotly in /usr/local/lib/python3.7/dist-packages (from catboost) (5.5.0)\n",
            "Requirement already satisfied: pandas>=0.24.0 in /usr/local/lib/python3.7/dist-packages (from catboost) (1.3.5)\n",
            "Requirement already satisfied: numpy>=1.16.0 in /usr/local/lib/python3.7/dist-packages (from catboost) (1.21.6)\n",
            "Requirement already satisfied: pytz>=2017.3 in /usr/local/lib/python3.7/dist-packages (from pandas>=0.24.0->catboost) (2022.2.1)\n",
            "Requirement already satisfied: python-dateutil>=2.7.3 in /usr/local/lib/python3.7/dist-packages (from pandas>=0.24.0->catboost) (2.8.2)\n",
            "Requirement already satisfied: cycler>=0.10 in /usr/local/lib/python3.7/dist-packages (from matplotlib->catboost) (0.11.0)\n",
            "Requirement already satisfied: pyparsing!=2.0.4,!=2.1.2,!=2.1.6,>=2.0.1 in /usr/local/lib/python3.7/dist-packages (from matplotlib->catboost) (3.0.9)\n",
            "Requirement already satisfied: kiwisolver>=1.0.1 in /usr/local/lib/python3.7/dist-packages (from matplotlib->catboost) (1.4.4)\n",
            "Requirement already satisfied: typing-extensions in /usr/local/lib/python3.7/dist-packages (from kiwisolver>=1.0.1->matplotlib->catboost) (4.1.1)\n",
            "Requirement already satisfied: tenacity>=6.2.0 in /usr/local/lib/python3.7/dist-packages (from plotly->catboost) (8.0.1)\n",
            "Installing collected packages: catboost\n",
            "Successfully installed catboost-1.0.6\n"
          ]
        }
      ]
    },
    {
      "cell_type": "code",
      "source": [
        "from catboost.core import CatBoostClassifier\n",
        "import time \n",
        "\n",
        "classifiers = [\n",
        "    GradientBoostingClassifier(),\n",
        "    XGBClassifier(),\n",
        "    lgb.LGBMClassifier(),\n",
        "    ctb.CatBoostClassifier()\n",
        "]\n",
        "classifier_names = ['GBC', 'XGBoost', 'LightGBM', 'CatBoost']\n",
        "\n",
        "x_treino, x_teste, y_treino, y_teste = train_test_split(df[['female', 'class_1','class_2', 'SibSp', 'Parch', 'AgeFilledNa']]\n",
        "                                                          , df['Survived'],test_size=0.3266, random_state=1)\n",
        "\n",
        "for idx, clf in enumerate(classifiers):\n",
        "  inicio = time.time()\n",
        "  \n",
        "  if classifier_names[idx]=='CatBoost':\n",
        "    mod = clf.fit(x_treino, y_treino, silent= True)\n",
        "  else:\n",
        "    mod = clf.fit(x_treino, y_treino)\n",
        "\n",
        "  y_prev = mod.predict(x_teste)\n",
        "  acc = accuracy_score(y_teste, y_prev)\n",
        "  fim = time.time()\n",
        "\n",
        "  print(classifier_names[idx], '| Acc=',acc,'| Tempo para execução:', fim-inicio, 'segundos')\n"
      ],
      "metadata": {
        "colab": {
          "base_uri": "https://localhost:8080/"
        },
        "id": "MzYRMJ_8x_nX",
        "outputId": "371470cc-afbc-497f-964a-8f6410f4b8a6"
      },
      "execution_count": 25,
      "outputs": [
        {
          "output_type": "stream",
          "name": "stdout",
          "text": [
            "GBC | Acc= 0.7636986301369864 | Tempo para execução: 0.08865189552307129 segundos\n",
            "XGBoost | Acc= 0.7705479452054794 | Tempo para execução: 0.05170583724975586 segundos\n",
            "LightGBM | Acc= 0.7808219178082192 | Tempo para execução: 0.040944576263427734 segundos\n",
            "CatBoost | Acc= 0.7636986301369864 | Tempo para execução: 0.5190300941467285 segundos\n"
          ]
        }
      ]
    },
    {
      "cell_type": "code",
      "source": [
        "# 2a tentativa: aumento da base de treino em 10x\n",
        "from catboost.core import CatBoostClassifier\n",
        "import time \n",
        "\n",
        "classifiers = [\n",
        "    GradientBoostingClassifier(),\n",
        "    XGBClassifier(),\n",
        "    lgb.LGBMClassifier(),\n",
        "    ctb.CatBoostClassifier()\n",
        "]\n",
        "classifier_names = ['GBC', 'XGBoost', 'LightGBM', 'CatBoost']\n",
        "\n",
        "x_treino, x_teste, y_treino, y_teste = train_test_split(df[['female', 'class_1','class_2', 'SibSp', 'Parch', 'AgeFilledNa']]\n",
        "                                                          , df['Survived'],test_size=0.3266, random_state=1)\n",
        "\n",
        "# Replicando base de treino para medição de tempo de execução de algoritmos\n",
        "for i in range(6):\n",
        "  x_treino = pd.concat([x_treino, x_treino])\n",
        "  y_treino = pd.concat([y_treino, y_treino])\n",
        "\n",
        "print('Tamanho da base de treino:', y_treino.shape)\n",
        "\n",
        "for idx, clf in enumerate(classifiers):\n",
        "  inicio = time.time()\n",
        "  \n",
        "  if classifier_names[idx]=='CatBoost':\n",
        "    mod = clf.fit(x_treino, y_treino, silent= True)\n",
        "  else:\n",
        "    mod = clf.fit(x_treino, y_treino)\n",
        "\n",
        "  y_prev = mod.predict(x_teste)\n",
        "  acc = accuracy_score(y_teste, y_prev)\n",
        "  fim = time.time()\n",
        "\n",
        "  print(classifier_names[idx], '| Acc=',acc,'| Tempo para execução:', fim-inicio, 'segundos')"
      ],
      "metadata": {
        "colab": {
          "base_uri": "https://localhost:8080/"
        },
        "id": "bgFXSrHu9BVQ",
        "outputId": "5fe5905c-2129-4862-bfe9-d2cadcbf3248"
      },
      "execution_count": 29,
      "outputs": [
        {
          "output_type": "stream",
          "name": "stdout",
          "text": [
            "Tamanho da base de treino: (38336,)\n",
            "GBC | Acc= 0.7636986301369864 | Tempo para execução: 1.3645613193511963 segundos\n",
            "XGBoost | Acc= 0.7705479452054794 | Tempo para execução: 1.254347801208496 segundos\n",
            "LightGBM | Acc= 0.7602739726027398 | Tempo para execução: 0.2991676330566406 segundos\n",
            "CatBoost | Acc= 0.7328767123287672 | Tempo para execução: 6.484435558319092 segundos\n"
          ]
        }
      ]
    },
    {
      "cell_type": "code",
      "source": [
        "from catboost.core import CatBoostClassifier\n",
        "import time \n",
        "\n",
        "classifiers = [\n",
        "    GradientBoostingClassifier(),\n",
        "    XGBClassifier(),\n",
        "    lgb.LGBMClassifier(),\n",
        "    ctb.CatBoostClassifier()\n",
        "]\n",
        "classifier_names = ['GBC', 'XGBoost', 'LightGBM', 'CatBoost']\n",
        "\n",
        "for iRandomState in range(5):\n",
        "\n",
        "  x_treino, x_teste, y_treino, y_teste = train_test_split(df[['female', 'class_1','class_2', 'SibSp', 'Parch', 'AgeFilledNa']]\n",
        "                                                            , df['Survived'],test_size=0.3266, random_state=iRandomState)\n",
        "\n",
        "  # Replicando base de treino para medição de tempo de execução de algoritmos\n",
        "  for i in range(6):\n",
        "    x_treino = pd.concat([x_treino, x_treino])\n",
        "    y_treino = pd.concat([y_treino, y_treino])\n",
        "\n",
        "  for idx, clf in enumerate(classifiers):\n",
        "    inicio = time.time()\n",
        "    \n",
        "    if classifier_names[idx]=='CatBoost':\n",
        "      clf = CatBoostClassifier(iterations=20, learning_rate=0.15,depth=10)\n",
        "      mod = clf.fit(x_treino, y_treino, silent= True)\n",
        "    else:\n",
        "      mod = clf.fit(x_treino, y_treino)\n",
        "\n",
        "    y_prev = mod.predict(x_teste)\n",
        "    acc = accuracy_score(y_teste, y_prev)\n",
        "    fim = time.time()\n",
        "\n",
        "    print(classifier_names[idx], '| Acc=',acc,'| Tempo para execução:', fim-inicio, 'segundos')"
      ],
      "metadata": {
        "colab": {
          "base_uri": "https://localhost:8080/"
        },
        "id": "HYJM-f7--YLr",
        "outputId": "9510b178-31d2-492e-d53a-d9728ebe4291"
      },
      "execution_count": 32,
      "outputs": [
        {
          "output_type": "stream",
          "name": "stdout",
          "text": [
            "GBC | Acc= 0.8116438356164384 | Tempo para execução: 1.3730709552764893 segundos\n",
            "XGBoost | Acc= 0.8047945205479452 | Tempo para execução: 1.2530746459960938 segundos\n",
            "LightGBM | Acc= 0.7773972602739726 | Tempo para execução: 0.2980766296386719 segundos\n",
            "CatBoost | Acc= 0.8184931506849316 | Tempo para execução: 0.16159725189208984 segundos\n",
            "GBC | Acc= 0.7602739726027398 | Tempo para execução: 1.3432857990264893 segundos\n",
            "XGBoost | Acc= 0.7705479452054794 | Tempo para execução: 1.25520658493042 segundos\n",
            "LightGBM | Acc= 0.7602739726027398 | Tempo para execução: 0.29300403594970703 segundos\n",
            "CatBoost | Acc= 0.7705479452054794 | Tempo para execução: 0.15827441215515137 segundos\n",
            "GBC | Acc= 0.797945205479452 | Tempo para execução: 1.363389492034912 segundos\n",
            "XGBoost | Acc= 0.8013698630136986 | Tempo para execução: 1.2402095794677734 segundos\n",
            "LightGBM | Acc= 0.773972602739726 | Tempo para execução: 0.29149818420410156 segundos\n",
            "CatBoost | Acc= 0.7945205479452054 | Tempo para execução: 0.16299152374267578 segundos\n",
            "GBC | Acc= 0.7876712328767124 | Tempo para execução: 1.3616306781768799 segundos\n",
            "XGBoost | Acc= 0.7808219178082192 | Tempo para execução: 1.2028133869171143 segundos\n",
            "LightGBM | Acc= 0.797945205479452 | Tempo para execução: 0.2976956367492676 segundos\n",
            "CatBoost | Acc= 0.8013698630136986 | Tempo para execução: 0.15016460418701172 segundos\n",
            "GBC | Acc= 0.839041095890411 | Tempo para execução: 1.383047342300415 segundos\n",
            "XGBoost | Acc= 0.8424657534246576 | Tempo para execução: 1.2244505882263184 segundos\n",
            "LightGBM | Acc= 0.8047945205479452 | Tempo para execução: 0.286837100982666 segundos\n",
            "CatBoost | Acc= 0.821917808219178 | Tempo para execução: 0.15635228157043457 segundos\n"
          ]
        }
      ]
    }
  ]
}