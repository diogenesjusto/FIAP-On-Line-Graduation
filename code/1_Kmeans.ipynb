{
  "nbformat": 4,
  "nbformat_minor": 0,
  "metadata": {
    "colab": {
      "name": "1-Kmeans.ipynb",
      "provenance": [],
      "authorship_tag": "ABX9TyPbRaFG4Naq7pM++VrL596s",
      "include_colab_link": true
    },
    "kernelspec": {
      "name": "python3",
      "display_name": "Python 3"
    },
    "language_info": {
      "name": "python"
    }
  },
  "cells": [
    {
      "cell_type": "markdown",
      "metadata": {
        "id": "view-in-github",
        "colab_type": "text"
      },
      "source": [
        "<a href=\"https://colab.research.google.com/github/diogenesjusto/FIAP-On-Line-Graduation/blob/main/code/1_Kmeans.ipynb\" target=\"_parent\"><img src=\"https://colab.research.google.com/assets/colab-badge.svg\" alt=\"Open In Colab\"/></a>"
      ]
    },
    {
      "cell_type": "code",
      "execution_count": 1,
      "metadata": {
        "colab": {
          "base_uri": "https://localhost:8080/",
          "height": 276
        },
        "id": "IJhJGI8AYeAb",
        "outputId": "d20b281f-26cd-4da8-cb66-edb2200e127b"
      },
      "outputs": [
        {
          "output_type": "execute_result",
          "data": {
            "text/plain": [
              "<matplotlib.axes._subplots.AxesSubplot at 0x7f5ed41db450>"
            ]
          },
          "metadata": {},
          "execution_count": 1
        },
        {
          "output_type": "display_data",
          "data": {
            "text/plain": [
              "<Figure size 432x288 with 2 Axes>"
            ],
            "image/png": "[encoded data removed]"
          },
          "metadata": {
            "needs_background": "light"
          }
        }
      ],
      "source": [
        "# carrega as bibliotecas pandas e Kmeans\n",
        "import pandas as pd\n",
        "from sklearn.cluster import KMeans\n",
        "\n",
        "# carrega o dataset \n",
        "df = pd.read_csv(\"https://raw.githubusercontent.com/diogenesjusto/FIAP-On-Line-Graduation/main/datasets/%20mtcars.csv\")\n",
        "\n",
        "# executa o algoritmo K-Means com 3 clusters, utilizando as variáveis mpg (milhas por galão) e wt (peso)\n",
        "k = KMeans(n_clusters=3, random_state=0).fit(df[['mpg','wt']])\n",
        "\n",
        "# adiciona o número do cluster (entre 0, 1 e 2) como uma nova coluna no dataframe\n",
        "df['cluster'] = k.labels_\n",
        "\n",
        "# visualização gráfico de dispersão das duas variáveis escolhidas, identificando no gráfico cada objeto o cluster ao qual pertence\n",
        "df.plot.scatter(x='wt', y='mpg', c='cluster', colormap='plasma')"
      ]
    },
    {
      "cell_type": "code",
      "source": [
        "import matplotlib.pyplot as plt\n",
        "# definindo uma janela lado a lado para geração dos histogramas das 2 variáveis\n",
        "fig, axes = plt.subplots(2, 1)\n",
        " \n",
        "# Padronização de variáveis\n",
        "df['mpg'].hist(ax=axes[0])\n",
        "df['wt'].hist(ax=axes[1])\n"
      ],
      "metadata": {
        "colab": {
          "base_uri": "https://localhost:8080/",
          "height": 283
        },
        "id": "wy-T0FnOTHlU",
        "outputId": "e3634656-81f2-405d-960c-fc4c33e2384e"
      },
      "execution_count": 2,
      "outputs": [
        {
          "output_type": "execute_result",
          "data": {
            "text/plain": [
              "<matplotlib.axes._subplots.AxesSubplot at 0x7f5ed3b99b10>"
            ]
          },
          "metadata": {},
          "execution_count": 2
        },
        {
          "output_type": "display_data",
          "data": {
            "text/plain": [
              "<Figure size 432x288 with 2 Axes>"
            ],
            "image/png": "[encoded data removed]"
          },
          "metadata": {
            "needs_background": "light"
          }
        }
      ]
    },
    {
      "cell_type": "code",
      "source": [
        "# Método de ajuste de escala Log-Lin\n",
        "\n",
        "import numpy as np\n",
        "import pandas as pd\n",
        "import matplotlib.pyplot as plt\n",
        " \n",
        "# definindo uma janela lado a lado para geração dos histogramas das 2 variáveis\n",
        "fig, axes = plt.subplots(2, 1)\n",
        " \n",
        "# carrega dados\n",
        "dfd = pd.read_csv(\"https://raw.githubusercontent.com/diogenesjusto/FIAP-On-Line-Graduation/main/datasets/diamonds.csv\")\n",
        "# constrói histograma de price\n",
        "dfd['price'].hist(ax=axes[0])\n",
        " \n",
        "# aplica uma transformação logarítmica na variável price\n",
        "dfd['price_log'] = np.log(dfd['price'])\n",
        "dfd['price_log'].hist(ax=axes[1])"
      ],
      "metadata": {
        "colab": {
          "base_uri": "https://localhost:8080/",
          "height": 283
        },
        "id": "m_Xz1nfFjZOY",
        "outputId": "d20b996f-4dc6-4f67-e181-4e4f16aaba71"
      },
      "execution_count": 3,
      "outputs": [
        {
          "output_type": "execute_result",
          "data": {
            "text/plain": [
              "<matplotlib.axes._subplots.AxesSubplot at 0x7f5ed3abe350>"
            ]
          },
          "metadata": {},
          "execution_count": 3
        },
        {
          "output_type": "display_data",
          "data": {
            "text/plain": [
              "<Figure size 432x288 with 2 Axes>"
            ],
            "image/png": "[encoded data removed]"
          },
          "metadata": {
            "needs_background": "light"
          }
        }
      ]
    },
    {
      "cell_type": "code",
      "source": [
        "# Métodos estatísticos de ajuste de escala\n",
        "# Retornando a base mtcars\n",
        "\n",
        "# M1 - Z-Pdrão\n",
        "from scipy.stats import zscore\n",
        "df['mpg_z'], df['wt_z'] = (df['mpg']-df['mpg'].mean() )/ df['mpg'].std(), zscore(df['wt']) \n",
        "\n",
        "# M2 - Range 0 a 1, -1 a 1\n",
        "from sklearn.preprocessing import MinMaxScaler\n",
        "scaler = MinMaxScaler(feature_range=(0,1))\n",
        "df['mpg_r01'], df['wt_r01'] = scaler.fit_transform(df[['mpg']]), scaler.fit_transform(df[['wt']]) \n",
        "\n",
        "# M3 - Máxima Amplitude\n",
        "df['mpg_ma'], df['wt_ma'] = df['mpg']/df['mpg'].max(), df['wt']/df['wt'].max()\n",
        "\n",
        "# M4 - Média 1\n",
        "df['mpg_m1'], df['wt_m1'] = df['mpg']/df['mpg'].mean(), df['wt']/df['wt'].mean()"
      ],
      "metadata": {
        "id": "h3SqZowBjvpP"
      },
      "execution_count": 9,
      "outputs": []
    },
    {
      "cell_type": "code",
      "source": [
        "# Visualização das novas variáveis transformadas\n",
        "df.loc[:,'mpg_z':'wt_m1'].head()"
      ],
      "metadata": {
        "id": "DpqmFPFPr4M8",
        "outputId": "faf81c22-7684-4df2-cf71-be8003cc7f35",
        "colab": {
          "base_uri": "https://localhost:8080/",
          "height": 206
        }
      },
      "execution_count": 10,
      "outputs": [
        {
          "output_type": "execute_result",
          "data": {
            "text/plain": [
              "      mpg_z      wt_z   mpg_r01    wt_r01    mpg_ma     wt_ma    mpg_m1  \\\n",
              "0  0.150885 -0.620167  0.451064  0.283048  0.619469  0.483038  1.045264   \n",
              "1  0.150885 -0.355382  0.451064  0.348249  0.619469  0.530052  1.045264   \n",
              "2  0.449543 -0.931678  0.527660  0.206341  0.672566  0.427729  1.134858   \n",
              "3  0.217253 -0.002336  0.468085  0.435183  0.631268  0.592736  1.065173   \n",
              "4 -0.230735  0.231297  0.353191  0.492713  0.551622  0.634218  0.930782   \n",
              "\n",
              "      wt_m1  \n",
              "0  0.814360  \n",
              "1  0.893620  \n",
              "2  0.721113  \n",
              "3  0.999301  \n",
              "4  1.069236  "
            ],
            "text/html": [
              "\n",
              "  <div id=\"df-f37a9eec-48f6-4094-8316-fb09f001be92\">\n",
              "    <div class=\"colab-df-container\">\n",
              "      <div>\n",
              "<style scoped>\n",
              "    .dataframe tbody tr th:only-of-type {\n",
              "        vertical-align: middle;\n",
              "    }\n",
              "\n",
              "    .dataframe tbody tr th {\n",
              "        vertical-align: top;\n",
              "    }\n",
              "\n",
              "    .dataframe thead th {\n",
              "        text-align: right;\n",
              "    }\n",
              "</style>\n",
              "<table border=\"1\" class=\"dataframe\">\n",
              "  <thead>\n",
              "    <tr style=\"text-align: right;\">\n",
              "      <th></th>\n",
              "      <th>mpg_z</th>\n",
              "      <th>wt_z</th>\n",
              "      <th>mpg_r01</th>\n",
              "      <th>wt_r01</th>\n",
              "      <th>mpg_ma</th>\n",
              "      <th>wt_ma</th>\n",
              "      <th>mpg_m1</th>\n",
              "      <th>wt_m1</th>\n",
              "    </tr>\n",
              "  </thead>\n",
              "  <tbody>\n",
              "    <tr>\n",
              "      <th>0</th>\n",
              "      <td>0.150885</td>\n",
              "      <td>-0.620167</td>\n",
              "      <td>0.451064</td>\n",
              "      <td>0.283048</td>\n",
              "      <td>0.619469</td>\n",
              "      <td>0.483038</td>\n",
              "      <td>1.045264</td>\n",
              "      <td>0.814360</td>\n",
              "    </tr>\n",
              "    <tr>\n",
              "      <th>1</th>\n",
              "      <td>0.150885</td>\n",
              "      <td>-0.355382</td>\n",
              "      <td>0.451064</td>\n",
              "      <td>0.348249</td>\n",
              "      <td>0.619469</td>\n",
              "      <td>0.530052</td>\n",
              "      <td>1.045264</td>\n",
              "      <td>0.893620</td>\n",
              "    </tr>\n",
              "    <tr>\n",
              "      <th>2</th>\n",
              "      <td>0.449543</td>\n",
              "      <td>-0.931678</td>\n",
              "      <td>0.527660</td>\n",
              "      <td>0.206341</td>\n",
              "      <td>0.672566</td>\n",
              "      <td>0.427729</td>\n",
              "      <td>1.134858</td>\n",
              "      <td>0.721113</td>\n",
              "    </tr>\n",
              "    <tr>\n",
              "      <th>3</th>\n",
              "      <td>0.217253</td>\n",
              "      <td>-0.002336</td>\n",
              "      <td>0.468085</td>\n",
              "      <td>0.435183</td>\n",
              "      <td>0.631268</td>\n",
              "      <td>0.592736</td>\n",
              "      <td>1.065173</td>\n",
              "      <td>0.999301</td>\n",
              "    </tr>\n",
              "    <tr>\n",
              "      <th>4</th>\n",
              "      <td>-0.230735</td>\n",
              "      <td>0.231297</td>\n",
              "      <td>0.353191</td>\n",
              "      <td>0.492713</td>\n",
              "      <td>0.551622</td>\n",
              "      <td>0.634218</td>\n",
              "      <td>0.930782</td>\n",
              "      <td>1.069236</td>\n",
              "    </tr>\n",
              "  </tbody>\n",
              "</table>\n",
              "</div>\n",
              "      <button class=\"colab-df-convert\" onclick=\"convertToInteractive('df-f37a9eec-48f6-4094-8316-fb09f001be92')\"\n",
              "              title=\"Convert this dataframe to an interactive table.\"\n",
              "              style=\"display:none;\">\n",
              "        \n",
              "  <svg xmlns=\"http://www.w3.org/2000/svg\" height=\"24px\"viewBox=\"0 0 24 24\"\n",
              "       width=\"24px\">\n",
              "    <path d=\"M0 0h24v24H0V0z\" fill=\"none\"/>\n",
              "    <path d=\"M18.56 5.44l.94 2.06.94-2.06 2.06-.94-2.06-.94-.94-2.06-.94 2.06-2.06.94zm-11 1L8.5 8.5l.94-2.06 2.06-.94-2.06-.94L8.5 2.5l-.94 2.06-2.06.94zm10 10l.94 2.06.94-2.06 2.06-.94-2.06-.94-.94-2.06-.94 2.06-2.06.94z\"/><path d=\"M17.41 7.96l-1.37-1.37c-.4-.4-.92-.59-1.43-.59-.52 0-1.04.2-1.43.59L10.3 9.45l-7.72 7.72c-.78.78-.78 2.05 0 2.83L4 21.41c.39.39.9.59 1.41.59.51 0 1.02-.2 1.41-.59l7.78-7.78 2.81-2.81c.8-.78.8-2.07 0-2.86zM5.41 20L4 18.59l7.72-7.72 1.47 1.35L5.41 20z\"/>\n",
              "  </svg>\n",
              "      </button>\n",
              "      \n",
              "  <style>\n",
              "    .colab-df-container {\n",
              "      display:flex;\n",
              "      flex-wrap:wrap;\n",
              "      gap: 12px;\n",
              "    }\n",
              "\n",
              "    .colab-df-convert {\n",
              "      background-color: #E8F0FE;\n",
              "      border: none;\n",
              "      border-radius: 50%;\n",
              "      cursor: pointer;\n",
              "      display: none;\n",
              "      fill: #1967D2;\n",
              "      height: 32px;\n",
              "      padding: 0 0 0 0;\n",
              "      width: 32px;\n",
              "    }\n",
              "\n",
              "    .colab-df-convert:hover {\n",
              "      background-color: #E2EBFA;\n",
              "      box-shadow: 0px 1px 2px rgba(60, 64, 67, 0.3), 0px 1px 3px 1px rgba(60, 64, 67, 0.15);\n",
              "      fill: #174EA6;\n",
              "    }\n",
              "\n",
              "    [theme=dark] .colab-df-convert {\n",
              "      background-color: #3B4455;\n",
              "      fill: #D2E3FC;\n",
              "    }\n",
              "\n",
              "    [theme=dark] .colab-df-convert:hover {\n",
              "      background-color: #434B5C;\n",
              "      box-shadow: 0px 1px 3px 1px rgba(0, 0, 0, 0.15);\n",
              "      filter: drop-shadow(0px 1px 2px rgba(0, 0, 0, 0.3));\n",
              "      fill: #FFFFFF;\n",
              "    }\n",
              "  </style>\n",
              "\n",
              "      <script>\n",
              "        const buttonEl =\n",
              "          document.querySelector('#df-f37a9eec-48f6-4094-8316-fb09f001be92 button.colab-df-convert');\n",
              "        buttonEl.style.display =\n",
              "          google.colab.kernel.accessAllowed ? 'block' : 'none';\n",
              "\n",
              "        async function convertToInteractive(key) {\n",
              "          const element = document.querySelector('#df-f37a9eec-48f6-4094-8316-fb09f001be92');\n",
              "          const dataTable =\n",
              "            await google.colab.kernel.invokeFunction('convertToInteractive',\n",
              "                                                     [key], {});\n",
              "          if (!dataTable) return;\n",
              "\n",
              "          const docLinkHtml = 'Like what you see? Visit the ' +\n",
              "            '<a target=\"_blank\" href=https://colab.research.google.com/notebooks/data_table.ipynb>data table notebook</a>'\n",
              "            + ' to learn more about interactive tables.';\n",
              "          element.innerHTML = '';\n",
              "          dataTable['output_type'] = 'display_data';\n",
              "          await google.colab.output.renderOutput(dataTable, element);\n",
              "          const docLink = document.createElement('div');\n",
              "          docLink.innerHTML = docLinkHtml;\n",
              "          element.appendChild(docLink);\n",
              "        }\n",
              "      </script>\n",
              "    </div>\n",
              "  </div>\n",
              "  "
            ]
          },
          "metadata": {},
          "execution_count": 10
        }
      ]
    },
    {
      "cell_type": "code",
      "source": [
        "# Geração dos gráficos de dispersão com as novas variáveis\n",
        "fig = plt.figure()\n",
        "ax1 = fig.add_subplot(221)\n",
        "ax2 = fig.add_subplot(222)\n",
        "ax3 = fig.add_subplot(223)\n",
        "ax4 = fig.add_subplot(224)\n",
        "ax1.scatter(df['wt_z'], df['mpg_z'])\n",
        "ax2.scatter(df['wt_r01'], df['mpg_r01'])\n",
        "ax3.scatter(df['wt_ma'], df['mpg_ma'])\n",
        "ax4.scatter(df['wt_m1'], df['mpg_m1'])\n"
      ],
      "metadata": {
        "colab": {
          "base_uri": "https://localhost:8080/",
          "height": 283
        },
        "id": "dfb57uZ6nGwl",
        "outputId": "764aa556-e1ae-4f7b-e5ab-1fc4a7e433ae"
      },
      "execution_count": 11,
      "outputs": [
        {
          "output_type": "execute_result",
          "data": {
            "text/plain": [
              "<matplotlib.collections.PathCollection at 0x7f5ed331dd90>"
            ]
          },
          "metadata": {},
          "execution_count": 11
        },
        {
          "output_type": "display_data",
          "data": {
            "text/plain": [
              "<Figure size 432x288 with 4 Axes>"
            ],
            "image/png": "[encoded data removed]"
          },
          "metadata": {
            "needs_background": "light"
          }
        }
      ]
    },
    {
      "cell_type": "code",
      "source": [
        "# executa o algoritmo K-Means com 3 clusters, utilizando as variáveis mpg (milhas por galão) e wt (peso)\n",
        "k = KMeans(n_clusters=3, random_state=0).fit(df[['mpg_r01','wt_r01']])\n",
        "\n",
        "# adiciona o número do cluster (entre 0, 1 e 2) como uma nova coluna no dataframe\n",
        "df['cluster'] = k.labels_\n",
        "\n",
        "# visualização gráfico de dispersão das duas variáveis escolhidas, identificando no gráfico cada objeto o cluster ao qual pertence\n",
        "df.plot.scatter(x='wt', y='mpg', c='cluster', colormap='plasma')"
      ],
      "metadata": {
        "colab": {
          "base_uri": "https://localhost:8080/",
          "height": 276
        },
        "id": "-CrtgQqemGf_",
        "outputId": "e766f7be-7134-46e1-e1ef-dd950c7db8b7"
      },
      "execution_count": 12,
      "outputs": [
        {
          "output_type": "execute_result",
          "data": {
            "text/plain": [
              "<matplotlib.axes._subplots.AxesSubplot at 0x7f5ed32bef50>"
            ]
          },
          "metadata": {},
          "execution_count": 12
        },
        {
          "output_type": "display_data",
          "data": {
            "text/plain": [
              "<Figure size 432x288 with 2 Axes>"
            ],
            "image/png": "[encoded data removed]"
          },
          "metadata": {
            "needs_background": "light"
          }
        }
      ]
    },
    {
      "cell_type": "code",
      "source": [
        "# Clusters hierárquicos\n",
        "from sklearn.cluster import AgglomerativeClustering\n",
        "\n",
        "cluster = AgglomerativeClustering(n_clusters=7, affinity='euclidean', linkage='ward')\n",
        "cluster.fit_predict(df[['mpg_r01','wt_r01']])\n",
        "df['hcluster'] = cluster.labels_\n",
        "df.plot.scatter(x='wt', y='mpg', c='hcluster', colormap='plasma')"
      ],
      "metadata": {
        "colab": {
          "base_uri": "https://localhost:8080/",
          "height": 276
        },
        "id": "wO0pxfhOq3MQ",
        "outputId": "c0406a24-7860-4f66-a275-c19e6a47b27d"
      },
      "execution_count": 23,
      "outputs": [
        {
          "output_type": "execute_result",
          "data": {
            "text/plain": [
              "<matplotlib.axes._subplots.AxesSubplot at 0x7f5ed0b79c10>"
            ]
          },
          "metadata": {},
          "execution_count": 23
        },
        {
          "output_type": "display_data",
          "data": {
            "text/plain": [
              "<Figure size 432x288 with 2 Axes>"
            ],
            "image/png": "[encoded data removed]"
          },
          "metadata": {
            "needs_background": "light"
          }
        }
      ]
    },
    {
      "cell_type": "code",
      "source": [
        "print(range(1,11))"
      ],
      "metadata": {
        "colab": {
          "base_uri": "https://localhost:8080/"
        },
        "id": "qVYX-15csfph",
        "outputId": "b56543dd-1b79-4ce0-cdc9-23e9a8b049a6"
      },
      "execution_count": 29,
      "outputs": [
        {
          "output_type": "stream",
          "name": "stdout",
          "text": [
            "range(1, 11)\n"
          ]
        }
      ]
    },
    {
      "cell_type": "code",
      "source": [
        "# Cluster hierárquico\n",
        "\n",
        "from scipy.cluster.hierarchy import dendrogram, linkage\n",
        "from matplotlib import pyplot as plt\n",
        "\n",
        "linked = linkage(df[['mpg_r01','wt_r01']], 'single')\n",
        "\n",
        "labelList = range(0, 33)\n",
        "plt.figure(figsize=(10, 7))\n",
        "\n",
        "dendrogram(linked,\n",
        "            orientation='top',\n",
        "            labels=labelList,\n",
        "            distance_sort='descending',\n",
        "            show_leaf_counts=True)\n",
        "plt.show()"
      ],
      "metadata": {
        "colab": {
          "base_uri": "https://localhost:8080/",
          "height": 435
        },
        "id": "bU_YBoM8rMx6",
        "outputId": "3c87736d-4062-4056-9110-a391864b6bb4"
      },
      "execution_count": 47,
      "outputs": [
        {
          "output_type": "display_data",
          "data": {
            "text/plain": [
              "<Figure size 720x504 with 1 Axes>"
            ],
            "image/png": "[encoded data removed]"
          },
          "metadata": {
            "needs_background": "light"
          }
        }
      ]
    }
  ]
}