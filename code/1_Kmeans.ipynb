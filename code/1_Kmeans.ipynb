{
  "nbformat": 4,
  "nbformat_minor": 0,
  "metadata": {
    "colab": {
      "name": "1-Kmeans.ipynb",
      "provenance": [],
      "authorship_tag": "ABX9TyOZmNjfusjIWXFoLyxMmTVC",
      "include_colab_link": true
    },
    "kernelspec": {
      "name": "python3",
      "display_name": "Python 3"
    },
    "language_info": {
      "name": "python"
    }
  },
  "cells": [
    {
      "cell_type": "markdown",
      "metadata": {
        "id": "view-in-github",
        "colab_type": "text"
      },
      "source": [
        "<a href=\"https://colab.research.google.com/github/diogenesjusto/FIAP-On-Line-Graduation/blob/main/code/1_Kmeans.ipynb\" target=\"_parent\"><img src=\"https://colab.research.google.com/assets/colab-badge.svg\" alt=\"Open In Colab\"/></a>"
      ]
    },
    {
      "cell_type": "code",
      "execution_count": 1,
      "metadata": {
        "colab": {
          "base_uri": "https://localhost:8080/",
          "height": 276
        },
        "id": "IJhJGI8AYeAb",
        "outputId": "c55a6808-8eed-43c3-d20c-e4d474ea732b"
      },
      "outputs": [
        {
          "output_type": "execute_result",
          "data": {
            "text/plain": [
              "<matplotlib.axes._subplots.AxesSubplot at 0x7f033128c710>"
            ]
          },
          "metadata": {},
          "execution_count": 1
        },
        {
          "output_type": "display_data",
          "data": {
            "text/plain": [
              "<Figure size 432x288 with 2 Axes>"
            ],
            "image/png": "[encoded data removed]"
          },
          "metadata": {
            "needs_background": "light"
          }
        }
      ],
      "source": [
        "# carrega as bibliotecas pandas e Kmeans\n",
        "import pandas as pd\n",
        "from sklearn.cluster import KMeans\n",
        "\n",
        "# carrega o dataset \n",
        "df = pd.read_csv(\"https://raw.githubusercontent.com/diogenesjusto/FIAP-On-Line-Graduation/main/datasets/%20mtcars.csv\")\n",
        "\n",
        "# executa o algoritmo K-Means com 3 clusters, utilizando as variáveis mpg (milhas por galão) e wt (peso)\n",
        "k = KMeans(n_clusters=3, random_state=0).fit(df[['mpg','wt']])\n",
        "\n",
        "# adiciona o número do cluster (entre 0, 1 e 2) como uma nova coluna no dataframe\n",
        "df['cluster'] = k.labels_\n",
        "\n",
        "# visualização gráfico de dispersão das duas variáveis escolhidas, identificando no gráfico cada objeto o cluster ao qual pertence\n",
        "df.plot.scatter(x='wt', y='mpg', c='cluster', colormap='plasma')"
      ]
    },
    {
      "cell_type": "code",
      "source": [
        "import matplotlib.pyplot as plt\n",
        "# definindo uma janela lado a lado para geração dos histogramas das 2 variáveis\n",
        "fig, axes = plt.subplots(2, 1)\n",
        " \n",
        "# Padronização de variáveis\n",
        "df['mpg'].hist(ax=axes[0])\n",
        "df['wt'].hist(ax=axes[1])\n"
      ],
      "metadata": {
        "colab": {
          "base_uri": "https://localhost:8080/",
          "height": 283
        },
        "id": "wy-T0FnOTHlU",
        "outputId": "f63b38c5-becd-4479-bcdc-15eb1cce8ddc"
      },
      "execution_count": 2,
      "outputs": [
        {
          "output_type": "execute_result",
          "data": {
            "text/plain": [
              "<matplotlib.axes._subplots.AxesSubplot at 0x7f0330c4dc10>"
            ]
          },
          "metadata": {},
          "execution_count": 2
        },
        {
          "output_type": "display_data",
          "data": {
            "text/plain": [
              "<Figure size 432x288 with 2 Axes>"
            ],
            "image/png": "[encoded data removed]"
          },
          "metadata": {
            "needs_background": "light"
          }
        }
      ]
    },
    {
      "cell_type": "code",
      "source": [
        "# Método de ajuste de escala Log-Lin\n",
        "\n",
        "import numpy as np\n",
        "import pandas as pd\n",
        "import matplotlib.pyplot as plt\n",
        " \n",
        "# definindo uma janela lado a lado para geração dos histogramas das 2 variáveis\n",
        "fig, axes = plt.subplots(2, 1)\n",
        " \n",
        "# carrega dados\n",
        "dfd = pd.read_csv(\"https://raw.githubusercontent.com/diogenesjusto/FIAP-On-Line-Graduation/main/datasets/diamonds.csv\")\n",
        "# constrói histograma de price\n",
        "dfd['price'].hist(ax=axes[0])\n",
        " \n",
        "# aplica uma transformação logarítmica na variável price\n",
        "dfd['price_log'] = np.log(dfd['price'])\n",
        "dfd['price_log'].hist(ax=axes[1])"
      ],
      "metadata": {
        "id": "m_Xz1nfFjZOY",
        "outputId": "168d6917-360f-44f2-a7b2-d4d41b5f667c",
        "colab": {
          "base_uri": "https://localhost:8080/",
          "height": 283
        }
      },
      "execution_count": 3,
      "outputs": [
        {
          "output_type": "execute_result",
          "data": {
            "text/plain": [
              "<matplotlib.axes._subplots.AxesSubplot at 0x7f0330b3ed10>"
            ]
          },
          "metadata": {},
          "execution_count": 3
        },
        {
          "output_type": "display_data",
          "data": {
            "text/plain": [
              "<Figure size 432x288 with 2 Axes>"
            ],
            "image/png": "[encoded data removed]"
          },
          "metadata": {
            "needs_background": "light"
          }
        }
      ]
    },
    {
      "cell_type": "code",
      "source": [
        "# Métodos estatísticos de ajuste de escala"
      ],
      "metadata": {
        "id": "h3SqZowBjvpP"
      },
      "execution_count": null,
      "outputs": []
    }
  ]
}